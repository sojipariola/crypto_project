{
 "cells": [
  {
   "cell_type": "code",
   "execution_count": 0,
   "metadata": {
    "application/vnd.databricks.v1+cell": {
     "cellMetadata": {
      "byteLimit": 2048000,
      "rowLimit": 10000
     },
     "inputWidgets": {},
     "nuid": "d0ac4fbb-bb85-49d3-af06-e61dba9bf03c",
     "showTitle": false,
     "tableResultSettingsMap": {},
     "title": ""
    }
   },
   "outputs": [],
   "source": [
    "spark"
   ]
  },
  {
   "cell_type": "code",
   "execution_count": 0,
   "metadata": {
    "application/vnd.databricks.v1+cell": {
     "cellMetadata": {
      "byteLimit": 2048000,
      "rowLimit": 10000
     },
     "inputWidgets": {},
     "nuid": "56340f67-ac05-4ea8-b50d-1c5b02e42a26",
     "showTitle": false,
     "tableResultSettingsMap": {},
     "title": ""
    }
   },
   "outputs": [],
   "source": [
    "from pyspark.sql.functions import *\n",
    "from pyspark.sql.types import *"
   ]
  },
  {
   "cell_type": "code",
   "execution_count": 0,
   "metadata": {
    "application/vnd.databricks.v1+cell": {
     "cellMetadata": {
      "byteLimit": 2048000,
      "rowLimit": 10000
     },
     "inputWidgets": {},
     "nuid": "7b8dfcb1-b1ad-4ebd-bcd4-420661fcbef2",
     "showTitle": false,
     "tableResultSettingsMap": {},
     "title": ""
    }
   },
   "outputs": [],
   "source": [
    "bronze_path=\"abfss://bronze@cryptostorageacct01.dfs.core.windows.net/\"\n",
    "silver_path=\"abfss://silver@cryptostorageacct01.dfs.core.windows.net/silver_crypto\"\n",
    "schema_path=\"abfss://schema@cryptostorageacct01.dfs.core.windows.net/\""
   ]
  },
  {
   "cell_type": "markdown",
   "metadata": {
    "application/vnd.databricks.v1+cell": {
     "cellMetadata": {},
     "inputWidgets": {},
     "nuid": "1116921a-2051-4d1c-aec7-6695b203e62b",
     "showTitle": false,
     "tableResultSettingsMap": {},
     "title": ""
    }
   },
   "source": [
    "## Using Autoloader "
   ]
  },
  {
   "cell_type": "code",
   "execution_count": 0,
   "metadata": {
    "application/vnd.databricks.v1+cell": {
     "cellMetadata": {
      "byteLimit": 2048000,
      "rowLimit": 10000
     },
     "inputWidgets": {},
     "nuid": "95f0471d-a1f0-4659-a047-e675873924f4",
     "showTitle": false,
     "tableResultSettingsMap": {},
     "title": ""
    }
   },
   "outputs": [],
   "source": [
    "df = spark.readStream\\\n",
    "    .format('cloudFiles')\\\n",
    "    .option('cloudFiles.format','json')\\\n",
    "    .option('cloudFiles.schemaEvolutionMode','addNewColumns')\\\n",
    "    .option('cloudFiles.schemaLocation', schema_path)\\\n",
    "    .option('cloudFiles.schemaHints',\n",
    "            \"\"\"\n",
    "            roi STRUCT<times:DOUBLE, currency:STRING, percentage:DOUBLE>,\n",
    "            ath STRING,\n",
    "            ath_change_percentage STRING,\n",
    "            ath_date STRING,\n",
    "            atl STRING,\n",
    "            atl_change_percentage STRING,\n",
    "            atl_date STRING,\n",
    "            circulating_supply STRING,\n",
    "            current_price STRING,\n",
    "            high_24h STRING,\n",
    "            id STRING,\n",
    "            last_updated STRING,\n",
    "            low_24h STRING,\n",
    "            market_cap STRING,\n",
    "            market_cap_change_24h STRING,\n",
    "            market_cap_change_percentage_24h STRING,\n",
    "            market_cap_rank STRING,\n",
    "            max_supply STRING,\n",
    "            name STRING,\n",
    "            price_change_24h STRING,\n",
    "            price_change_percentage_24h STRING,\n",
    "            symbol STRING,\n",
    "            total_supply STRING,\n",
    "            total_volume STRING\n",
    "            \"\"\") \\\n",
    "            .load(bronze_path)\\\n",
    "            .withColumn('ingested_time', current_timestamp())\n"
   ]
  },
  {
   "cell_type": "code",
   "execution_count": 0,
   "metadata": {
    "application/vnd.databricks.v1+cell": {
     "cellMetadata": {
      "byteLimit": 2048000,
      "rowLimit": 10000
     },
     "inputWidgets": {},
     "nuid": "16926166-5294-4894-b4d6-6618c17f5885",
     "showTitle": false,
     "tableResultSettingsMap": {},
     "title": ""
    }
   },
   "outputs": [],
   "source": [
    "df.printSchema()"
   ]
  },
  {
   "cell_type": "markdown",
   "metadata": {
    "application/vnd.databricks.v1+cell": {
     "cellMetadata": {},
     "inputWidgets": {},
     "nuid": "cec57d95-e088-4ca1-a740-855c774ea2a2",
     "showTitle": false,
     "tableResultSettingsMap": {},
     "title": ""
    }
   },
   "source": [
    "## Transforming our data using Pyspark"
   ]
  },
  {
   "cell_type": "code",
   "execution_count": 0,
   "metadata": {
    "application/vnd.databricks.v1+cell": {
     "cellMetadata": {
      "byteLimit": 2048000,
      "rowLimit": 10000
     },
     "inputWidgets": {},
     "nuid": "eb4e1e42-12cd-42aa-8fa2-d1534b12cbb0",
     "showTitle": false,
     "tableResultSettingsMap": {},
     "title": ""
    }
   },
   "outputs": [],
   "source": [
    "df_parsed = df\\\n",
    "  .withColumn('roi_time', col('roi.times'))\\\n",
    "  .withColumn('roi_currency', col('roi.currency'))\\\n",
    "  .withColumn('roi_percentage', col('roi.percentage'))\\\n",
    "  .drop('roi')"
   ]
  },
  {
   "cell_type": "code",
   "execution_count": 0,
   "metadata": {
    "application/vnd.databricks.v1+cell": {
     "cellMetadata": {
      "byteLimit": 2048000,
      "rowLimit": 10000
     },
     "inputWidgets": {},
     "nuid": "578e98cd-20a2-4517-a944-2db60a5f4c0f",
     "showTitle": false,
     "tableResultSettingsMap": {},
     "title": ""
    }
   },
   "outputs": [],
   "source": [
    "df_parsed.printSchema()"
   ]
  },
  {
   "cell_type": "code",
   "execution_count": 0,
   "metadata": {
    "application/vnd.databricks.v1+cell": {
     "cellMetadata": {
      "byteLimit": 2048000,
      "rowLimit": 10000
     },
     "inputWidgets": {},
     "nuid": "114b6d3c-e9d3-4fef-a3ab-de1861485cf0",
     "showTitle": false,
     "tableResultSettingsMap": {},
     "title": ""
    }
   },
   "outputs": [],
   "source": [
    "from pyspark.sql.functions import regexp_replace, to_timestamp, to_date, when\n",
    "df_transformed = df_parsed \\\n",
    "    .withColumn(\"last_updated_clean\", regexp_replace(col(\"last_updated\"), \"(Z|\\\\+00:00)$\", \"\")) \\\n",
    "    .withColumn(\n",
    "        \"last_updated_ts\",\n",
    "        when(\n",
    "            col(\"last_updated_clean\").isNotNull(),\n",
    "            to_timestamp(col(\"last_updated_clean\"), \"yyyy-MM-dd'T'HH:mm:ss.SSS\")\n",
    "        ).otherwise(current_timestamp())\n",
    "    ) \\\n",
    "    .withColumn(\"date_partition\", to_date(col(\"last_updated_ts\"))) \\\n",
    "    .drop(\"last_updated\", \"last_updated_clean\")\n",
    "                \n",
    "                                                       "
   ]
  },
  {
   "cell_type": "code",
   "execution_count": 0,
   "metadata": {
    "application/vnd.databricks.v1+cell": {
     "cellMetadata": {
      "byteLimit": 2048000,
      "rowLimit": 10000
     },
     "inputWidgets": {},
     "nuid": "f205673f-873e-47da-aad4-f7ee21e89d75",
     "showTitle": false,
     "tableResultSettingsMap": {},
     "title": ""
    }
   },
   "outputs": [],
   "source": [
    "df_metrics = df_transformed \\\n",
    "    .withColumn(\"market_cap_double\", col(\"market_cap\").cast(\"double\")) \\\n",
    "    .withColumn(\"total_volume_double\", col(\"total_volume\").cast(\"double\")) \\\n",
    "    .withColumn(\"market_cap_billions\", \n",
    "        when(col(\"market_cap_double\").isNotNull(), col(\"market_cap_double\") / 1_000_000_000.0)\n",
    "        .otherwise(0.0)\n",
    "    ) \\\n",
    "    .withColumn(\"volume_to_market_cap_ratio\",\n",
    "        when(\n",
    "            (col(\"total_volume_double\").isNotNull()) & \n",
    "            (col(\"market_cap_double\").isNotNull()) & \n",
    "            (col(\"market_cap_double\") > 0),\n",
    "            col(\"total_volume_double\") / col(\"market_cap_double\")\n",
    "        ).otherwise(0.0)\n",
    "    )"
   ]
  },
  {
   "cell_type": "code",
   "execution_count": 0,
   "metadata": {
    "application/vnd.databricks.v1+cell": {
     "cellMetadata": {
      "byteLimit": 2048000,
      "rowLimit": 10000
     },
     "inputWidgets": {},
     "nuid": "f0363f74-f87c-4ace-a4b9-c1b337325d53",
     "showTitle": false,
     "tableResultSettingsMap": {},
     "title": ""
    }
   },
   "outputs": [],
   "source": [
    "df_metrics.printSchema()"
   ]
  },
  {
   "cell_type": "code",
   "execution_count": 0,
   "metadata": {
    "application/vnd.databricks.v1+cell": {
     "cellMetadata": {
      "byteLimit": 2048000,
      "rowLimit": 10000
     },
     "inputWidgets": {},
     "nuid": "98200da9-da2e-499c-8234-54576f009aff",
     "showTitle": false,
     "tableResultSettingsMap": {},
     "title": ""
    }
   },
   "outputs": [],
   "source": [
    "df_final = df_metrics \\\n",
    "    .filter(\n",
    "    col(\"symbol\").isNotNull() & \n",
    "    col(\"last_updated_ts\").isNotNull() &\n",
    "    col(\"date_partition\").isNotNull() &\n",
    "    col(\"market_cap_billions\").isNotNull() &\n",
    "    col('id').isNotNull()\n",
    "    )\\\n",
    "    .dropDuplicates('id', 'last_updated_ts')"
   ]
  },
  {
   "cell_type": "code",
   "execution_count": 0,
   "metadata": {
    "application/vnd.databricks.v1+cell": {
     "cellMetadata": {
      "byteLimit": 2048000,
      "rowLimit": 10000
     },
     "inputWidgets": {},
     "nuid": "a5ddf233-f7a7-4d6e-8f23-24193090cc22",
     "showTitle": false,
     "tableResultSettingsMap": {},
     "title": ""
    }
   },
   "outputs": [],
   "source": [
    "df_final.printSchema()"
   ]
  },
  {
   "cell_type": "code",
   "execution_count": 0,
   "metadata": {
    "application/vnd.databricks.v1+cell": {
     "cellMetadata": {
      "byteLimit": 2048000,
      "implicitDf": true,
      "rowLimit": 10000
     },
     "inputWidgets": {},
     "nuid": "3659eafe-d2e0-427a-9842-d9427ff14d70",
     "showTitle": false,
     "tableResultSettingsMap": {},
     "title": ""
    }
   },
   "outputs": [],
   "source": [
    "%sql\n",
    "SHOW EXTERNAL LOCATIONS;"
   ]
  },
  {
   "cell_type": "markdown",
   "metadata": {
    "application/vnd.databricks.v1+cell": {
     "cellMetadata": {},
     "inputWidgets": {},
     "nuid": "4260b905-cccd-47f8-9973-7476f0a00676",
     "showTitle": false,
     "tableResultSettingsMap": {},
     "title": ""
    }
   },
   "source": [
    "## Writing to our silver layer"
   ]
  },
  {
   "cell_type": "code",
   "execution_count": 0,
   "metadata": {
    "application/vnd.databricks.v1+cell": {
     "cellMetadata": {
      "byteLimit": 2048000,
      "rowLimit": 10000
     },
     "inputWidgets": {},
     "nuid": "2e46ba90-2b44-4e41-bf84-ec2020cfed20",
     "showTitle": false,
     "tableResultSettingsMap": {},
     "title": ""
    }
   },
   "outputs": [],
   "source": [
    "query = df_final.writeStream \\\n",
    "    .format('delta')\\\n",
    "    .outputMode('append')\\\n",
    "    .option('checkpointLocation', \"abfss://silver@cryptostorageacct01.dfs.core.windows.net/_checkpoints/crypto_market\")\\\n",
    "    .trigger(once=True)\\\n",
    "    .start(silver_path)"
   ]
  },
  {
   "cell_type": "code",
   "execution_count": 0,
   "metadata": {
    "application/vnd.databricks.v1+cell": {
     "cellMetadata": {
      "byteLimit": 2048000,
      "rowLimit": 10000
     },
     "inputWidgets": {},
     "nuid": "16022b77-a350-4d41-9f27-fa2074a59fbc",
     "showTitle": false,
     "tableResultSettingsMap": {},
     "title": ""
    }
   },
   "outputs": [],
   "source": [
    "query.status\n",
    "query.lastProgress"
   ]
  },
  {
   "cell_type": "code",
   "execution_count": 0,
   "metadata": {
    "application/vnd.databricks.v1+cell": {
     "cellMetadata": {
      "byteLimit": 2048000,
      "rowLimit": 10000
     },
     "inputWidgets": {},
     "nuid": "b0c8b15d-edda-4b66-a12b-803b167c06ef",
     "showTitle": false,
     "tableResultSettingsMap": {},
     "title": ""
    }
   },
   "outputs": [],
   "source": [
    "query.stop"
   ]
  }
 ],
 "metadata": {
  "application/vnd.databricks.v1+notebook": {
   "computePreferences": null,
   "dashboards": [],
   "environmentMetadata": {
    "base_environment": "",
    "environment_version": "2"
   },
   "inputWidgetPreferences": null,
   "language": "python",
   "notebookMetadata": {
    "mostRecentlyExecutedCommandWithImplicitDF": {
     "commandId": 1669803144300340,
     "dataframes": [
      "_sqldf"
     ]
    },
    "pythonIndentUnit": 4
   },
   "notebookName": "silver_layer 2025 06 23",
   "widgets": {}
  },
  "language_info": {
   "name": "python"
  }
 },
 "nbformat": 4,
 "nbformat_minor": 0
}
